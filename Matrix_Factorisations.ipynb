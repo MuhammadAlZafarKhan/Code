{
  "nbformat": 4,
  "nbformat_minor": 0,
  "metadata": {
    "colab": {
      "provenance": [],
      "authorship_tag": "ABX9TyPsVKzdhb0bJSdQSHKHjrpj",
      "include_colab_link": true
    },
    "kernelspec": {
      "name": "python3",
      "display_name": "Python 3"
    },
    "language_info": {
      "name": "python"
    }
  },
  "cells": [
    {
      "cell_type": "markdown",
      "metadata": {
        "id": "view-in-github",
        "colab_type": "text"
      },
      "source": [
        "<a href=\"https://colab.research.google.com/github/MuhammadAlZafarKhan/Code/blob/main/Matrix_Factorisations.ipynb\" target=\"_parent\"><img src=\"https://colab.research.google.com/assets/colab-badge.svg\" alt=\"Open In Colab\"/></a>"
      ]
    },
    {
      "cell_type": "markdown",
      "source": [
        "# LU Decomposition\n",
        "Let $M\\in\\mathbb{R}^{n\\times n}$ be a square matrix. We want to write $M=PLU$, where is the permutation matrix that keeps track of row interchanges, $L$ is the lower triangular component, and $U$ is the upper triangular component.  "
      ],
      "metadata": {
        "id": "bdkZTOkYewtV"
      }
    },
    {
      "cell_type": "code",
      "execution_count": 1,
      "metadata": {
        "id": "tGZvuM7nekGp"
      },
      "outputs": [],
      "source": [
        "# Packages\n",
        "\n",
        "import numpy as np\n",
        "from scipy.linalg import lu"
      ]
    },
    {
      "cell_type": "code",
      "source": [
        "# Example matrix\n",
        "\n",
        "M = np.array([[2, 3, 1],\n",
        "              [4, 9, 5],\n",
        "              [6, 12, 11]])"
      ],
      "metadata": {
        "id": "X2lLuE-1fXN8"
      },
      "execution_count": 4,
      "outputs": []
    },
    {
      "cell_type": "code",
      "source": [
        "# Perform LU decomposition\n",
        "\n",
        "P, L, U = lu(A)"
      ],
      "metadata": {
        "id": "pXfupgU6fcEJ"
      },
      "execution_count": 5,
      "outputs": []
    },
    {
      "cell_type": "code",
      "source": [
        "# Printing out the results\n",
        "\n",
        "print(\"Matrix M:\")\n",
        "print(M)\n",
        "print(\"\\nPermutation matrix P:\")\n",
        "print(P)\n",
        "print(\"\\nLower triangular matrix L:\")\n",
        "print(L)\n",
        "print(\"\\nUpper triangular matrix U:\")\n",
        "print(U)"
      ],
      "metadata": {
        "colab": {
          "base_uri": "https://localhost:8080/"
        },
        "id": "PG1p7-_Rfp-K",
        "outputId": "c12f7507-09dc-487c-9a20-dc478e4b5239"
      },
      "execution_count": 6,
      "outputs": [
        {
          "output_type": "stream",
          "name": "stdout",
          "text": [
            "Matrix M:\n",
            "[[ 2  3  1]\n",
            " [ 4  9  5]\n",
            " [ 6 12 11]]\n",
            "\n",
            "Permutation matrix P:\n",
            "[[0. 0. 1.]\n",
            " [0. 1. 0.]\n",
            " [1. 0. 0.]]\n",
            "\n",
            "Lower triangular matrix L:\n",
            "[[ 1.          0.          0.        ]\n",
            " [ 0.66666667  1.          0.        ]\n",
            " [ 0.33333333 -1.          1.        ]]\n",
            "\n",
            "Upper triangular matrix U:\n",
            "[[ 6.         12.         11.        ]\n",
            " [ 0.          1.         -2.33333333]\n",
            " [ 0.          0.         -5.        ]]\n"
          ]
        }
      ]
    },
    {
      "cell_type": "code",
      "source": [
        "# Checking whether it was decomposed properly -- We recover M, so the factorisation was successful\n",
        "\n",
        "print(np.dot(P,np.dot(L, U)))"
      ],
      "metadata": {
        "colab": {
          "base_uri": "https://localhost:8080/"
        },
        "id": "9TA5PT2rfxgl",
        "outputId": "4f3920c0-863f-4502-fbe1-b4a91fb813a5"
      },
      "execution_count": 10,
      "outputs": [
        {
          "output_type": "stream",
          "name": "stdout",
          "text": [
            "[[ 2.  3.  1.]\n",
            " [ 4.  9.  5.]\n",
            " [ 6. 12. 11.]]\n"
          ]
        }
      ]
    },
    {
      "cell_type": "markdown",
      "source": [
        "# QR Decomposition\n",
        "\n",
        "We want to write $M=QR$, where $Q$ is an orthogonal matrix, and $R$ is the upper triangular matrix"
      ],
      "metadata": {
        "id": "xW3Ufbi7h9D1"
      }
    },
    {
      "cell_type": "code",
      "source": [
        "# Calculating Q and R\n",
        "\n",
        "Q, R = np.linalg.qr(M)"
      ],
      "metadata": {
        "id": "KG-MdhGlgHXw"
      },
      "execution_count": 11,
      "outputs": []
    },
    {
      "cell_type": "code",
      "source": [
        "# Print the Q and R matrices\n",
        "\n",
        "print(\"Q:\")\n",
        "print(Q)\n",
        "print(\"R:\")\n",
        "print(R)"
      ],
      "metadata": {
        "colab": {
          "base_uri": "https://localhost:8080/"
        },
        "id": "M77j2s0zikLC",
        "outputId": "9e9c4d6a-5cce-4d2c-bde0-e2f228f3d0c5"
      },
      "execution_count": 12,
      "outputs": [
        {
          "output_type": "stream",
          "name": "stdout",
          "text": [
            "Q:\n",
            "[[-0.26726124  0.77151675 -0.57735027]\n",
            " [-0.53452248 -0.6172134  -0.57735027]\n",
            " [-0.80178373  0.15430335  0.57735027]]\n",
            "R:\n",
            "[[ -7.48331477 -15.23389079 -11.75949464]\n",
            " [  0.          -1.38873015  -0.6172134 ]\n",
            " [  0.           0.           2.88675135]]\n"
          ]
        }
      ]
    },
    {
      "cell_type": "code",
      "source": [
        "# Checking\n",
        "\n",
        "print(np.dot(Q, R))"
      ],
      "metadata": {
        "colab": {
          "base_uri": "https://localhost:8080/"
        },
        "id": "m_BvfRhFio-_",
        "outputId": "afe904fc-5a3b-489e-b2f2-9947d32bfc2c"
      },
      "execution_count": 13,
      "outputs": [
        {
          "output_type": "stream",
          "name": "stdout",
          "text": [
            "[[ 2.  3.  1.]\n",
            " [ 4.  9.  5.]\n",
            " [ 6. 12. 11.]]\n"
          ]
        }
      ]
    },
    {
      "cell_type": "code",
      "source": [],
      "metadata": {
        "id": "FeqNsUhWis20"
      },
      "execution_count": null,
      "outputs": []
    },
    {
      "cell_type": "markdown",
      "source": [
        "# Singular Value Decomposition (SVD)\n",
        "\n",
        "We want to write $M=UDV^{T}$, where $U, V$ are orthogonal matrices, and $D$ is a diagonal matrix"
      ],
      "metadata": {
        "id": "QxIXJzKQiySl"
      }
    },
    {
      "cell_type": "code",
      "source": [
        "# Calculating U, D, and V^T\n",
        "\n",
        "U, D, Vt = np.linalg.svd(M)"
      ],
      "metadata": {
        "id": "i_impesDjWZm"
      },
      "execution_count": 14,
      "outputs": []
    },
    {
      "cell_type": "code",
      "source": [
        "# Printing out the results\n",
        "\n",
        "print(\"U:\")\n",
        "print(U)\n",
        "print(\"D:\")\n",
        "print(np.diag(D))\n",
        "print(\"Vt:\")\n",
        "print(Vt)\n"
      ],
      "metadata": {
        "colab": {
          "base_uri": "https://localhost:8080/"
        },
        "id": "cyH9mie3jqZA",
        "outputId": "dad5067b-8dfa-4dbf-db9c-658215733758"
      },
      "execution_count": 17,
      "outputs": [
        {
          "output_type": "stream",
          "name": "stdout",
          "text": [
            "U:\n",
            "[[-0.16841236  0.51826328  0.83847508]\n",
            " [-0.52623681  0.67199243 -0.52105757]\n",
            " [-0.83349391 -0.52898899  0.15955738]]\n",
            "D:\n",
            "[[20.76020447  0.          0.        ]\n",
            " [ 0.          2.37569208  0.        ]\n",
            " [ 0.          0.          0.60827432]]\n",
            "Vt:\n",
            "[[-0.35850974 -0.73425555 -0.57648899]\n",
            " [ 0.23174819  0.52820559 -0.8168792 ]\n",
            " [ 0.90430279 -0.42645943 -0.01920445]]\n"
          ]
        }
      ]
    },
    {
      "cell_type": "code",
      "source": [
        "# Checking\n",
        "\n",
        "print(U@D@Vt)"
      ],
      "metadata": {
        "colab": {
          "base_uri": "https://localhost:8080/"
        },
        "id": "CJIIOBy9j8P9",
        "outputId": "27d1922b-a5da-41e4-9c5a-01433107f831"
      },
      "execution_count": 21,
      "outputs": [
        {
          "output_type": "stream",
          "name": "stdout",
          "text": [
            "[-18.30237668   4.06773013   9.24535449]\n"
          ]
        }
      ]
    },
    {
      "cell_type": "markdown",
      "source": [
        "# Eignenvalue Decomposotion\n",
        "\n",
        "Let $V$ be the matrix of eigenvectors of $M$, and $\\Lambda$ be a diagonal matrix of the eigenvalues of $M$. Then, $M=V\\Lambda V^{T}$"
      ],
      "metadata": {
        "id": "mkh-SlfqlPp1"
      }
    },
    {
      "cell_type": "code",
      "source": [
        "eigenvalues, eigenvectors = np.linalg.eig(M)"
      ],
      "metadata": {
        "id": "xbucAD4mkTo6"
      },
      "execution_count": 22,
      "outputs": []
    },
    {
      "cell_type": "code",
      "source": [
        "# Print the eigenvalues and eigenvectors\n",
        "\n",
        "print(\"Eigenvalues:\")\n",
        "print(eigenvalues)\n",
        "print(\"Eigenvectors:\")\n",
        "print(eigenvectors)"
      ],
      "metadata": {
        "colab": {
          "base_uri": "https://localhost:8080/"
        },
        "id": "hTIabZrYmCce",
        "outputId": "ceac8f29-5a56-4250-d935-69c845bcd993"
      },
      "execution_count": 23,
      "outputs": [
        {
          "output_type": "stream",
          "name": "stdout",
          "text": [
            "Eigenvalues:\n",
            "[18.84803655  0.63150268  2.52046077]\n",
            "Eigenvectors:\n",
            "[[-0.1386987  -0.9164871  -0.45382137]\n",
            " [-0.49254592  0.3928374  -0.35165546]\n",
            " [-0.85916308  0.07569793  0.81877017]]\n"
          ]
        }
      ]
    },
    {
      "cell_type": "code",
      "source": [
        "# Checking\n",
        "\n",
        "print(eigenvectors @ eigenvalues @ eigenvectors.T)"
      ],
      "metadata": {
        "colab": {
          "base_uri": "https://localhost:8080/"
        },
        "id": "Fb-GhStBmGEs",
        "outputId": "9ed11726-b049-4281-87d3-01ab05b109a0"
      },
      "execution_count": 27,
      "outputs": [
        {
          "output_type": "stream",
          "name": "stdout",
          "text": [
            "[16.08542923  3.19045947 -8.55500564]\n"
          ]
        }
      ]
    },
    {
      "cell_type": "code",
      "source": [],
      "metadata": {
        "id": "0zmulaD3mkEM"
      },
      "execution_count": null,
      "outputs": []
    }
  ]
}